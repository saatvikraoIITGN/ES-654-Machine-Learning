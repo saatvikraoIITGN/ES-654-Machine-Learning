{
  "nbformat": 4,
  "nbformat_minor": 0,
  "metadata": {
    "colab": {
      "provenance": [],
      "toc_visible": true,
      "collapsed_sections": [
        "9OvMOhdaLa6U",
        "ai0Jm-Zgx3X_",
        "QftUUBi26og5",
        "ir6qytBl-YtC",
        "NrFSkJwtEdOL",
        "JVBxbcRTFXDb",
        "21_YtiFWI1eE",
        "yXxIK0lqMCVA",
        "lAeBl0ffMnKh",
        "1YQOnJZLM9TJ",
        "_6l3R9dZNola",
        "XgTNoLgnOVCJ",
        "PrYy7xzvOpVG",
        "x9TM1tF_PBVQ",
        "1a5yainMPe6d",
        "Quvf3-QoTBVo",
        "7Pj8o8u0Tu6w",
        "3L7ZWenLfXTI"
      ],
      "authorship_tag": "ABX9TyNn1/VB91iCDKfdoPpYpXil",
      "include_colab_link": true
    },
    "kernelspec": {
      "name": "python3",
      "display_name": "Python 3"
    },
    "language_info": {
      "name": "python"
    }
  },
  "cells": [
    {
      "cell_type": "markdown",
      "metadata": {
        "id": "view-in-github",
        "colab_type": "text"
      },
      "source": [
        "<a href=\"https://colab.research.google.com/github/saatvikraoIITGN/ES-654-Machine-Learning/blob/main/ML_prerquisite_test.ipynb\" target=\"_parent\"><img src=\"https://colab.research.google.com/assets/colab-badge.svg\" alt=\"Open In Colab\"/></a>"
      ]
    },
    {
      "cell_type": "markdown",
      "source": [
        "## Question - 1\n",
        "For each cell in the resulting $n*m$, \n",
        "* number of multiplications = $k$ \n",
        "* number of additions = $k - 1$ \n",
        "\n",
        "Therefore, \n",
        "* total number of multiplications = $nmk$\n",
        "* total number of additions = $nm(k-1)$"
      ],
      "metadata": {
        "id": "W_A9xGVpJk9P"
      }
    },
    {
      "cell_type": "markdown",
      "source": [
        "## Question - 2"
      ],
      "metadata": {
        "id": "9OvMOhdaLa6U"
      }
    },
    {
      "cell_type": "code",
      "source": [
        "# python function to compute matrix multiplication\n",
        "def multiply_matrices(A, B):\n",
        "    result = [[0 for _ in range(len(B[0]))] for _ in range(len(A))]\n",
        "    for i in range(len(A)):\n",
        "        for j in range(len(B[0])):\n",
        "            for k in range(len(B)):\n",
        "                result[i][j] += A[i][k] * B[k][j]\n",
        "\n",
        "    return result\n",
        "\n",
        "A = [[1, 2, 3], [4, 5, 6]]\n",
        "B = [[1, 2], [3, 4], [5, 6]]\n",
        "result = multiply_matrices(A, B)\n",
        "print(result)  # prints [[22, 28], [49, 64]]"
      ],
      "metadata": {
        "colab": {
          "base_uri": "https://localhost:8080/"
        },
        "id": "fuq97xohLddI",
        "outputId": "83ba91e4-df12-47b6-9803-deebbc286ce8"
      },
      "execution_count": 15,
      "outputs": [
        {
          "output_type": "stream",
          "name": "stdout",
          "text": [
            "[[22, 28], [49, 64]]\n"
          ]
        }
      ]
    },
    {
      "cell_type": "code",
      "source": [
        "A = [[1, 2, 3], [4, 5, 6]]\n",
        "B = [[1, 2], [3, 4], [5, 6]]"
      ],
      "metadata": {
        "id": "8zFAIzFwwXid"
      },
      "execution_count": 19,
      "outputs": []
    },
    {
      "cell_type": "code",
      "source": [
        "%%timeit -r 3 -n 10000\n",
        "result = multiply_matrices(A, B)"
      ],
      "metadata": {
        "colab": {
          "base_uri": "https://localhost:8080/"
        },
        "id": "pnog8NlAwVsw",
        "outputId": "039c799f-4db8-4ac6-93fa-6a0e5eb637f8"
      },
      "execution_count": 20,
      "outputs": [
        {
          "output_type": "stream",
          "name": "stdout",
          "text": [
            "11.6 µs ± 635 ns per loop (mean ± std. dev. of 3 runs, 10000 loops each)\n"
          ]
        }
      ]
    },
    {
      "cell_type": "code",
      "source": [
        "%%timeit -r 3 -n 10000\n",
        "result = np.matmul(A, B)"
      ],
      "metadata": {
        "colab": {
          "base_uri": "https://localhost:8080/"
        },
        "id": "bkxZbZvanTxt",
        "outputId": "65ffbe7e-61a8-4200-d619-50d53b52942a"
      },
      "execution_count": 21,
      "outputs": [
        {
          "output_type": "stream",
          "name": "stdout",
          "text": [
            "7.29 µs ± 1.02 µs per loop (mean ± std. dev. of 3 runs, 10000 loops each)\n"
          ]
        }
      ]
    },
    {
      "cell_type": "markdown",
      "source": [
        "### Time Comparision\n",
        "In general, the NumPy solution is faster because NumPy uses optimized C code to perform matrix operations, whereas the list-based solution uses Python loops, which are much slower. \n",
        "\n",
        "Also, NumPy stores data in a contiguous block of memory, which can make access faster than with a list of lists, where the data is stored in separate blocks of memory."
      ],
      "metadata": {
        "id": "HFApnyNbQ3AC"
      }
    },
    {
      "cell_type": "markdown",
      "source": [
        "## Question - 3"
      ],
      "metadata": {
        "id": "JJjU47QdR95K"
      }
    },
    {
      "cell_type": "markdown",
      "source": [
        "### Given method"
      ],
      "metadata": {
        "id": "5thRdu1cxykb"
      }
    },
    {
      "cell_type": "code",
      "source": [
        "import sys\n",
        "\n",
        "def median_pass(arr):\n",
        "  n = len(arr)\n",
        "  idx = 0\n",
        "  used_idx = []\n",
        "\n",
        "  if(n%2):\n",
        "    for j in range(int((n+1)/2)):\n",
        "      max_num = -sys.maxsize - 1\n",
        "\n",
        "      for i in range(n):\n",
        "        if(arr[i]>=max_num and i not in used_idx):\n",
        "          max_num = arr[i]\n",
        "          idx = i\n",
        "      used_idx.append(idx)\n",
        "\n",
        "    median = max_num\n",
        "  else:\n",
        "    for j in range(int(n/2)+1):\n",
        "      if(j == int(n/2)):\n",
        "        last_max = max_num\n",
        "      max_num = -sys.maxsize - 1\n",
        "\n",
        "      for i in range(n):\n",
        "        if(arr[i]>=max_num and i not in used_idx):\n",
        "          max_num = arr[i]\n",
        "          idx = i\n",
        "      used_idx.append(idx)\n",
        "      \n",
        "    median = (max_num + last_max)/2\n",
        "    \n",
        "    return median"
      ],
      "metadata": {
        "id": "XiMjfCPlx2eA"
      },
      "execution_count": 32,
      "outputs": []
    },
    {
      "cell_type": "markdown",
      "source": [
        "### Optimized approach\n",
        "\n",
        "We can find the median of an array by sorting the array first, and then selecting the middle element. The time complexity of sorting an array depends on the sorting algorithm used. \n",
        "\n",
        "- $O(n^2)$ : bubble sort, insertion sort \n",
        "- $O(n*log(n))$ : merge sort, quick sort\n",
        "- $O(n)$ : counting sort  \n",
        "\n",
        "Once the array is sorted, finding the median takes $O(1)$ time.\n",
        "\n",
        "To find the median of an array without sorting it, we can use the \"quickselect\" algorithm, which has an average time complexity of $O(n)$."
      ],
      "metadata": {
        "id": "ai0Jm-Zgx3X_"
      }
    },
    {
      "cell_type": "code",
      "source": [
        "def quickselect(arr, k):\n",
        "    pivot = arr[len(arr) // 2]\n",
        "    left = [x for x in arr if x < pivot]\n",
        "    right = [x for x in arr if x > pivot]\n",
        "\n",
        "    if k < len(left):\n",
        "        return quickselect(left, k)\n",
        "    elif k >= len(arr) - len(right):\n",
        "        return quickselect(right, k - (len(arr) - len(right)))\n",
        "    else:\n",
        "        return pivot\n",
        "\n",
        "def median(arr):\n",
        "    if len(arr) % 2 == 0:\n",
        "        return (quickselect(arr, len(arr) // 2 - 1) + quickselect(arr, len(arr) // 2)) / 2\n",
        "    else:\n",
        "        return quickselect(arr, len(arr) // 2)"
      ],
      "metadata": {
        "id": "agyP-pwk_wDx"
      },
      "execution_count": 33,
      "outputs": []
    },
    {
      "cell_type": "markdown",
      "source": [
        "### Comparision \n",
        "To compare the performance of this implementation with the numpy.median routine, we can use the timeit module in Python. "
      ],
      "metadata": {
        "id": "QftUUBi26og5"
      }
    },
    {
      "cell_type": "code",
      "source": [
        "from numpy import random\n",
        "\n",
        "arr = random.randint(100, size=(100))\n",
        "print(arr)"
      ],
      "metadata": {
        "colab": {
          "base_uri": "https://localhost:8080/"
        },
        "id": "R7nOuVvpxcRX",
        "outputId": "4d930f5c-8d79-4200-afde-f1f623f3a92e"
      },
      "execution_count": 34,
      "outputs": [
        {
          "output_type": "stream",
          "name": "stdout",
          "text": [
            "[ 7  5 33 99  2 98 85  7 37 17 69 22 37 25 52 11 97 49 20 74 70 27 44 25\n",
            "  6 60 35 55  5 45 12 19 53 62 12 20 27 79 33 84 78 69 12 60 56 76 96 40\n",
            "  1 81 60 75 76  6 61 61 37 90 32 41 89 37 12 11 31 21 94 62 52 80 90 58\n",
            " 50  7 87  7 37 85 65 55 52 81 30 67 87 43 95  9 66 17 84 56 67 36  7 29\n",
            " 55  0  1 50]\n"
          ]
        }
      ]
    },
    {
      "cell_type": "code",
      "source": [
        "%%timeit -r 3 -n 1000\n",
        "# array pass method \n",
        "median_pass(arr)"
      ],
      "metadata": {
        "colab": {
          "base_uri": "https://localhost:8080/"
        },
        "id": "lWjcoGYsm0-j",
        "outputId": "32933bf6-9551-4e02-e655-71031a804a43"
      },
      "execution_count": 35,
      "outputs": [
        {
          "output_type": "stream",
          "name": "stdout",
          "text": [
            "1.33 ms ± 28.1 µs per loop (mean ± std. dev. of 3 runs, 1000 loops each)\n"
          ]
        }
      ]
    },
    {
      "cell_type": "code",
      "source": [
        "%%timeit -r 3 -n 1000\n",
        "# quickslelect algorithm \n",
        "median(arr) "
      ],
      "metadata": {
        "colab": {
          "base_uri": "https://localhost:8080/"
        },
        "id": "x1hxAjkX64rP",
        "outputId": "33567583-afe4-402a-e879-50863a07e957"
      },
      "execution_count": 41,
      "outputs": [
        {
          "output_type": "stream",
          "name": "stdout",
          "text": [
            "90.8 µs ± 5.45 µs per loop (mean ± std. dev. of 3 runs, 1000 loops each)\n"
          ]
        }
      ]
    },
    {
      "cell_type": "code",
      "source": [
        "%%timeit -r 3 -n 1000\n",
        "# numpy.median routine \n",
        "import numpy as np\n",
        "np.median(arr) "
      ],
      "metadata": {
        "colab": {
          "base_uri": "https://localhost:8080/"
        },
        "id": "Zg15eV7YxE1o",
        "outputId": "79980969-7c42-4137-95ce-eb1603187bed"
      },
      "execution_count": 42,
      "outputs": [
        {
          "output_type": "stream",
          "name": "stdout",
          "text": [
            "27.4 µs ± 3.9 µs per loop (mean ± std. dev. of 3 runs, 1000 loops each)\n"
          ]
        }
      ]
    },
    {
      "cell_type": "markdown",
      "source": [
        "We see that numpy.median routine is faster than \"quickselect\" algorithm which is faster than given method in the question. \n"
      ],
      "metadata": {
        "id": "r2fLaGTvyC3a"
      }
    },
    {
      "cell_type": "markdown",
      "source": [
        "## Question - 4\n",
        "To find the gradient of the function with respect to x and y, we can use the following formula:\n",
        "\n",
        "Gradient, $\\triangledown = [$\\frac{df}{dx}$, $\\frac{df}{dy}$]\n",
        "\n",
        "Derivative of the function with respect to x is:\n",
        "\n",
        "$2xy + y^3 \\times cos(x)$\n",
        "\n",
        "Derivative of the function with respect to y is:\n",
        "\n",
        "$x^2 + 3y^2 \\times sin(x)$\n",
        "\n",
        "So, the gradient of the function with respect to x and y is:\n",
        "\n",
        "$\\triangledown f(x,y)$ = [$2xy + y^3cos(x)$, $x^2 + 3y^2sin(x)$]"
      ],
      "metadata": {
        "id": "oW1JCSiB8JYA"
      }
    },
    {
      "cell_type": "markdown",
      "source": [
        "## Question - 5"
      ],
      "metadata": {
        "id": "ir6qytBl-YtC"
      }
    },
    {
      "cell_type": "code",
      "source": [
        "import jax.numpy as np\n",
        "from jax import grad\n",
        "\n",
        "# defining the function \n",
        "def f(x, y):\n",
        "  return x**2 * y + y**3 * np.sin(x)\n",
        "\n",
        "grad_x = grad(f, argnums=0)\n",
        "grad_y = grad(f, argnums=1)\n",
        "\n",
        "x = 2.0\n",
        "y = 3.0\n",
        "\n",
        "print(\"Derivative of f wrt x: \", grad_x(x, y))  \n",
        "print(\"Derivative of f wrt y: \", grad_y(x, y))  "
      ],
      "metadata": {
        "colab": {
          "base_uri": "https://localhost:8080/"
        },
        "id": "VCcLWNFs_O6K",
        "outputId": "16c7e253-7937-4db6-c1ef-5b92b2fe3f59"
      },
      "execution_count": 35,
      "outputs": [
        {
          "output_type": "stream",
          "name": "stdout",
          "text": [
            "Derivative of f wrt x:  0.7640352\n",
            "Derivative of f wrt y:  28.55103\n"
          ]
        }
      ]
    },
    {
      "cell_type": "code",
      "source": [
        "# graident using the previous method \n",
        "def f(x, y):\n",
        "  return x**2 * y + y**3 * np.sin(x)\n",
        "\n",
        "# derivative wrt x\n",
        "def df_dx(x, y):\n",
        "  return 2*x*y + y**3 * np.cos(x)\n",
        "\n",
        "# derivative wrt y\n",
        "def df_dy(x, y):\n",
        "  return x**2 + 3 * y**2 * np.sin(x)\n",
        "\n",
        "x = 2.0\n",
        "y = 3.0\n",
        "\n",
        "print(\"Derivative of f wrt x: \", df_dx(x, y))  \n",
        "print(\"Derivative of f wrt y: \", df_dy(x, y)) "
      ],
      "metadata": {
        "colab": {
          "base_uri": "https://localhost:8080/"
        },
        "id": "qiMrYMU4AaSj",
        "outputId": "da726b39-6ab7-43db-dc1a-0b64ef15d6c2"
      },
      "execution_count": 37,
      "outputs": [
        {
          "output_type": "stream",
          "name": "stdout",
          "text": [
            "Derivative of f wrt x:  0.7640352\n",
            "Derivative of f wrt y:  28.55103\n"
          ]
        }
      ]
    },
    {
      "cell_type": "markdown",
      "source": [
        "We see that using both the methods we get the same analytical solution. "
      ],
      "metadata": {
        "id": "J0ElGr6mEWks"
      }
    },
    {
      "cell_type": "markdown",
      "source": [
        "## Question - 6"
      ],
      "metadata": {
        "id": "NrFSkJwtEdOL"
      }
    },
    {
      "cell_type": "code",
      "source": [
        "import sympy\n",
        "\n",
        "x, y = sympy.symbols('x y')\n",
        "\n",
        "# equation \n",
        "f = (x**2)*y + (y**3)*sympy.sin(x)\n",
        "\n",
        "# gradients wrt x and y \n",
        "gradient_x = sympy.diff(f, x)\n",
        "gradient_y = sympy.diff(f, y)\n",
        "\n",
        "print(f\"Gradient with respect to x: {gradient_x}\")\n",
        "print(f\"Gradient with respect to y: {gradient_y}\")"
      ],
      "metadata": {
        "colab": {
          "base_uri": "https://localhost:8080/"
        },
        "id": "gbFUllDMEoex",
        "outputId": "6600d5e6-4b30-4d9c-84be-1c4301b26ac6"
      },
      "execution_count": 44,
      "outputs": [
        {
          "output_type": "stream",
          "name": "stdout",
          "text": [
            "Gradient with respect to x: 2*x*y + y**3*cos(x)\n",
            "Gradient with respect to y: x**2 + 3*y**2*sin(x)\n"
          ]
        }
      ]
    },
    {
      "cell_type": "markdown",
      "source": [
        "We obtain the same differential equations as we got in Question-4. "
      ],
      "metadata": {
        "id": "zGummdk6FM3m"
      }
    },
    {
      "cell_type": "code",
      "source": [
        "# taking same values as earlier \n",
        "x_val = 2.0\n",
        "y_val = 3.0\n",
        "\n",
        "gradient_x_val = gradient_x.subs({x: x_val, y: y_val})\n",
        "gradient_y_val = gradient_y.subs({x: x_val, y: y_val})\n",
        "\n",
        "print(\"Derivative of f wrt x: \", gradient_x_val)\n",
        "print(\"Derivative of f wrt y: \", gradient_y_val)"
      ],
      "metadata": {
        "colab": {
          "base_uri": "https://localhost:8080/"
        },
        "id": "mSWtH_l4FTnM",
        "outputId": "89ca4122-3bea-4bfe-a56b-ce9d338d43eb"
      },
      "execution_count": 47,
      "outputs": [
        {
          "output_type": "stream",
          "name": "stdout",
          "text": [
            "Derivative of f wrt x:  0.764035413227155\n",
            "Derivative of f wrt y:  28.5510305242934\n"
          ]
        }
      ]
    },
    {
      "cell_type": "markdown",
      "source": [
        "We can see sympy gives the same result. "
      ],
      "metadata": {
        "id": "LkEh48Lrroff"
      }
    },
    {
      "cell_type": "markdown",
      "source": [
        "## Question - 7"
      ],
      "metadata": {
        "id": "JVBxbcRTFXDb"
      }
    },
    {
      "cell_type": "code",
      "source": [
        "student_records = {\n",
        "    2022: {\n",
        "        \"Branch 1\": {\n",
        "            1: {\n",
        "                \"Roll Number\": 1,\n",
        "                \"Name\": \"N\",\n",
        "                \"Marks\": {\n",
        "                    \"Maths\": 100,\n",
        "                    \"English\": 70\n",
        "                }\n",
        "            }\n",
        "        },\n",
        "        \"Branch 2\": {}\n",
        "    },\n",
        "    2023: {\n",
        "        \"Branch 1\": {},\n",
        "        \"Branch 2\": {}\n",
        "    },\n",
        "    2024: {\n",
        "        \"Branch 1\": {},\n",
        "        \"Branch 2\": {}\n",
        "    },\n",
        "    2025: {\n",
        "        \"Branch 1\": {},\n",
        "        \"Branch 2\": {}\n",
        "    }\n",
        "}"
      ],
      "metadata": {
        "id": "HuNGurDZIIWS"
      },
      "execution_count": 51,
      "outputs": []
    },
    {
      "cell_type": "markdown",
      "source": [
        "## Question - 8"
      ],
      "metadata": {
        "id": "21_YtiFWI1eE"
      }
    },
    {
      "cell_type": "code",
      "source": [
        "class Student:\n",
        "    def __init__(self, roll_number, name, marks):\n",
        "        self.roll_number = roll_number\n",
        "        self.name = name\n",
        "        self.marks = marks\n",
        "\n",
        "class Branch:\n",
        "    def __init__(self, name, students):\n",
        "        self.name = name\n",
        "        self.students = students\n",
        "\n",
        "class Year:\n",
        "    def __init__(self, year, branches):\n",
        "        self.year = year\n",
        "        self.branches = branches\n",
        "\n",
        "# inserting values\n",
        "student1 = Student(1, \"N\", {\"Maths\": 100, \"English\": 70})\n",
        "branch1 = Branch(\"Branch 1\", [student1])\n",
        "year1 = Year(2022, [branch1])\n",
        "\n",
        "student_records = [year1]"
      ],
      "metadata": {
        "id": "seo7TTOkLHrd"
      },
      "execution_count": 1,
      "outputs": []
    },
    {
      "cell_type": "markdown",
      "source": [
        "## Question - 9"
      ],
      "metadata": {
        "id": "ixd3LUbaLmb4"
      }
    },
    {
      "cell_type": "markdown",
      "source": [
        "### 1) $y = x$"
      ],
      "metadata": {
        "id": "yXxIK0lqMCVA"
      }
    },
    {
      "cell_type": "code",
      "source": [
        "import matplotlib.pyplot as plt\n",
        "import numpy as np\n",
        "\n",
        "# start, end of the domain, step size \n",
        "start, end, step = 0.5, 100.0, 0.5\n",
        "\n",
        "# numpy's arange function generates the values in specified domain\n",
        "x = np.arange(start, end+step, step)\n",
        "\n",
        "# Evaluating the function at each point in the domain\n",
        "y = [x_i for x_i in x]  # y = x\n",
        "\n",
        "plt.plot(x, y)\n",
        "plt.xlabel('x')\n",
        "plt.ylabel('y')\n",
        "plt.show()"
      ],
      "metadata": {
        "colab": {
          "base_uri": "https://localhost:8080/",
          "height": 279
        },
        "id": "drxcusBUMEjo",
        "outputId": "4169d0f6-02db-4454-9942-97872bab74a3"
      },
      "execution_count": 56,
      "outputs": [
        {
          "output_type": "display_data",
          "data": {
            "text/plain": [
              "<Figure size 432x288 with 1 Axes>"
            ],
            "image/png": "[encoded data removed]"
          },
          "metadata": {
            "needs_background": "light"
          }
        }
      ]
    },
    {
      "cell_type": "markdown",
      "source": [
        "### 2) $y = x^2$"
      ],
      "metadata": {
        "id": "lAeBl0ffMnKh"
      }
    },
    {
      "cell_type": "code",
      "source": [
        "import numpy as np\n",
        "import matplotlib.pyplot as plt\n",
        "\n",
        "start, end, step = 0.5, 100.0, 0.5\n",
        "\n",
        "x = np.arange(start, end+step, step)\n",
        "\n",
        "y = [x_i**2 for x_i in x]  # y = x^2\n",
        "\n",
        "plt.plot(x, y)\n",
        "plt.xlabel('x')\n",
        "plt.ylabel('y')\n",
        "plt.show()"
      ],
      "metadata": {
        "colab": {
          "base_uri": "https://localhost:8080/",
          "height": 279
        },
        "id": "c5eVh3KKMw7S",
        "outputId": "e268c807-af94-42ab-9b8f-adc05ddaa8a2"
      },
      "execution_count": 58,
      "outputs": [
        {
          "output_type": "display_data",
          "data": {
            "text/plain": [
              "<Figure size 432x288 with 1 Axes>"
            ],
            "image/png": "[encoded data removed]"
          },
          "metadata": {
            "needs_background": "light"
          }
        }
      ]
    },
    {
      "cell_type": "markdown",
      "source": [
        "### 3) $y = \\frac{x^3}{100}$"
      ],
      "metadata": {
        "id": "1YQOnJZLM9TJ"
      }
    },
    {
      "cell_type": "code",
      "source": [
        "import numpy as np\n",
        "import matplotlib.pyplot as plt\n",
        "\n",
        "start, end, step = 0.5, 100.0, 0.5\n",
        "\n",
        "x = np.arange(start, end+step, step)\n",
        "\n",
        "y = [x_i**3/100 for x_i in x]  # y = x^3/100\n",
        "\n",
        "plt.plot(x, y)\n",
        "plt.xlabel('x')\n",
        "plt.ylabel('y')\n",
        "plt.show()"
      ],
      "metadata": {
        "colab": {
          "base_uri": "https://localhost:8080/",
          "height": 279
        },
        "id": "J3lQFY03NEIC",
        "outputId": "6d59e328-a49b-4312-bedf-7457a772a37e"
      },
      "execution_count": 59,
      "outputs": [
        {
          "output_type": "display_data",
          "data": {
            "text/plain": [
              "<Figure size 432x288 with 1 Axes>"
            ],
            "image/png": "[encoded data removed]"
          },
          "metadata": {
            "needs_background": "light"
          }
        }
      ]
    },
    {
      "cell_type": "markdown",
      "source": [
        "### 4) $y = sin(x)$"
      ],
      "metadata": {
        "id": "_6l3R9dZNola"
      }
    },
    {
      "cell_type": "code",
      "source": [
        "import numpy as np\n",
        "import matplotlib.pyplot as plt\n",
        "\n",
        "start, end, step = 0.5, 100.0, 0.5\n",
        "\n",
        "x = np.arange(start, end+step, step)\n",
        "\n",
        "y = [np.sin(x_i) for x_i in x]  # y = sin(x)\n",
        "\n",
        "plt.plot(x, y)\n",
        "plt.xlabel('x')\n",
        "plt.ylabel('y')\n",
        "plt.show()"
      ],
      "metadata": {
        "colab": {
          "base_uri": "https://localhost:8080/",
          "height": 279
        },
        "id": "2ku8ujgTNuEz",
        "outputId": "ec676a91-8c22-455e-d380-d1e78d9a1957"
      },
      "execution_count": 60,
      "outputs": [
        {
          "output_type": "display_data",
          "data": {
            "text/plain": [
              "<Figure size 432x288 with 1 Axes>"
            ],
            "image/png": "[encoded data removed]"
          },
          "metadata": {
            "needs_background": "light"
          }
        }
      ]
    },
    {
      "cell_type": "markdown",
      "source": [
        "### 5) $y = \\frac{sin(x)}{x}$"
      ],
      "metadata": {
        "id": "XgTNoLgnOVCJ"
      }
    },
    {
      "cell_type": "code",
      "source": [
        "import numpy as np\n",
        "import matplotlib.pyplot as plt\n",
        "\n",
        "start, end, step = 0.5, 100.0, 0.5\n",
        "\n",
        "x = np.arange(start, end+step, step)\n",
        "\n",
        "y = [np.sin(x_i)/x_i for x_i in x]  # y = sin(x)\n",
        "\n",
        "plt.plot(x, y)\n",
        "plt.xlabel('x')\n",
        "plt.ylabel('y')\n",
        "plt.show()"
      ],
      "metadata": {
        "colab": {
          "base_uri": "https://localhost:8080/",
          "height": 280
        },
        "id": "HpdQEKwwOf-b",
        "outputId": "fdca510c-475c-429a-b7af-a4c4dd4cddf8"
      },
      "execution_count": 1,
      "outputs": [
        {
          "output_type": "display_data",
          "data": {
            "text/plain": [
              "<Figure size 432x288 with 1 Axes>"
            ],
            "image/png": "[encoded data removed]"
          },
          "metadata": {
            "needs_background": "light"
          }
        }
      ]
    },
    {
      "cell_type": "markdown",
      "source": [
        "### 6) $y = log(x)$"
      ],
      "metadata": {
        "id": "PrYy7xzvOpVG"
      }
    },
    {
      "cell_type": "code",
      "source": [
        "import numpy as np\n",
        "import matplotlib.pyplot as plt\n",
        "\n",
        "start, end, step = 0.5, 100.0, 0.5\n",
        "\n",
        "x = np.arange(start, end+step, step)\n",
        "\n",
        "y = [np.log(x_i) for x_i in x]  # y = log(x)\n",
        "\n",
        "plt.plot(x, y)\n",
        "plt.xlabel('x')\n",
        "plt.ylabel('y')\n",
        "plt.show()"
      ],
      "metadata": {
        "colab": {
          "base_uri": "https://localhost:8080/",
          "height": 279
        },
        "id": "gcjYQykSOv5S",
        "outputId": "6b9575c6-3c3a-4cb0-9866-69d3a80a5651"
      },
      "execution_count": 62,
      "outputs": [
        {
          "output_type": "display_data",
          "data": {
            "text/plain": [
              "<Figure size 432x288 with 1 Axes>"
            ],
            "image/png": "[encoded data removed]"
          },
          "metadata": {
            "needs_background": "light"
          }
        }
      ]
    },
    {
      "cell_type": "markdown",
      "source": [
        "### 7) $y = e^x$"
      ],
      "metadata": {
        "id": "x9TM1tF_PBVQ"
      }
    },
    {
      "cell_type": "code",
      "source": [
        "import numpy as np\n",
        "import matplotlib.pyplot as plt\n",
        "\n",
        "start, end, step = 0.5, 100.0, 0.5\n",
        "\n",
        "x = np.arange(start, end+step, step)\n",
        "\n",
        "y = [np.exp(x_i) for x_i in x]  # y = e^x\n",
        "\n",
        "plt.plot(x, y)\n",
        "plt.xlabel('x')\n",
        "plt.ylabel('y')\n",
        "plt.show()"
      ],
      "metadata": {
        "colab": {
          "base_uri": "https://localhost:8080/",
          "height": 290
        },
        "id": "T5Pe2AzvPKaD",
        "outputId": "58bc4590-0a93-43d7-96f2-401fd8011190"
      },
      "execution_count": 63,
      "outputs": [
        {
          "output_type": "display_data",
          "data": {
            "text/plain": [
              "<Figure size 432x288 with 1 Axes>"
            ],
            "image/png": "[encoded data removed]"
          },
          "metadata": {
            "needs_background": "light"
          }
        }
      ]
    },
    {
      "cell_type": "markdown",
      "source": [
        "## Question - 10"
      ],
      "metadata": {
        "id": "1a5yainMPe6d"
      }
    },
    {
      "cell_type": "code",
      "source": [
        "import numpy as np\n",
        "\n",
        "# matrix of size 20x5 containing random numbers from the range of 1 to 2\n",
        "matrix = np.random.uniform(1, 2, size=(20, 5))\n",
        "\n",
        "print(matrix)"
      ],
      "metadata": {
        "colab": {
          "base_uri": "https://localhost:8080/"
        },
        "id": "O7BKJpDUPgZh",
        "outputId": "f095f538-f243-4e81-9fbb-5b794ba76cea"
      },
      "execution_count": 64,
      "outputs": [
        {
          "output_type": "stream",
          "name": "stdout",
          "text": [
            "[[1.81293585 1.45457105 1.97717385 1.97041761 1.33305215]\n",
            " [1.1084561  1.10238673 1.3670573  1.68190516 1.24515864]\n",
            " [1.24161531 1.05788381 1.44686611 1.46737281 1.67786444]\n",
            " [1.47221909 1.61221272 1.66998737 1.15622719 1.91924072]\n",
            " [1.54821016 1.43006629 1.48893875 1.89281863 1.11035316]\n",
            " [1.44502312 1.88801897 1.05347262 1.96503389 1.91534203]\n",
            " [1.233091   1.33271481 1.37475516 1.82944033 1.39906904]\n",
            " [1.45009252 1.71452798 1.13869726 1.69262136 1.80010244]\n",
            " [1.05295647 1.17615459 1.35697331 1.2687624  1.91329691]\n",
            " [1.69620715 1.22667817 1.11190637 1.73152297 1.79686985]\n",
            " [1.07984552 1.93315787 1.99083994 1.31118033 1.77822547]\n",
            " [1.79357083 1.41170537 1.57917154 1.5319755  1.06917407]\n",
            " [1.37644459 1.67152515 1.77856469 1.41566932 1.18742436]\n",
            " [1.55908158 1.37712997 1.62148756 1.0396287  1.84755442]\n",
            " [1.67722755 1.82487927 1.05520087 1.59679381 1.8010425 ]\n",
            " [1.83863166 1.55880768 1.62923043 1.80118306 1.81956477]\n",
            " [1.73417936 1.40886442 1.22466641 1.64289343 1.0573185 ]\n",
            " [1.9726369  1.37858988 1.59000417 1.64074863 1.36254963]\n",
            " [1.22667112 1.02546508 1.34134327 1.49979603 1.29632403]\n",
            " [1.05397446 1.69958661 1.4984778  1.78433189 1.62457259]]\n"
          ]
        }
      ]
    },
    {
      "cell_type": "code",
      "source": [
        "import pandas as pd\n",
        "\n",
        "# dataframe \n",
        "df = pd.DataFrame(data=matrix, columns=['a', 'b', 'c', 'd', 'e'])\n",
        "\n",
        "print(df)"
      ],
      "metadata": {
        "colab": {
          "base_uri": "https://localhost:8080/"
        },
        "id": "sYrzRkT_Se19",
        "outputId": "ab4557be-fdec-4853-f524-04d440656eaa"
      },
      "execution_count": 65,
      "outputs": [
        {
          "output_type": "stream",
          "name": "stdout",
          "text": [
            "           a         b         c         d         e\n",
            "0   1.812936  1.454571  1.977174  1.970418  1.333052\n",
            "1   1.108456  1.102387  1.367057  1.681905  1.245159\n",
            "2   1.241615  1.057884  1.446866  1.467373  1.677864\n",
            "3   1.472219  1.612213  1.669987  1.156227  1.919241\n",
            "4   1.548210  1.430066  1.488939  1.892819  1.110353\n",
            "5   1.445023  1.888019  1.053473  1.965034  1.915342\n",
            "6   1.233091  1.332715  1.374755  1.829440  1.399069\n",
            "7   1.450093  1.714528  1.138697  1.692621  1.800102\n",
            "8   1.052956  1.176155  1.356973  1.268762  1.913297\n",
            "9   1.696207  1.226678  1.111906  1.731523  1.796870\n",
            "10  1.079846  1.933158  1.990840  1.311180  1.778225\n",
            "11  1.793571  1.411705  1.579172  1.531976  1.069174\n",
            "12  1.376445  1.671525  1.778565  1.415669  1.187424\n",
            "13  1.559082  1.377130  1.621488  1.039629  1.847554\n",
            "14  1.677228  1.824879  1.055201  1.596794  1.801042\n",
            "15  1.838632  1.558808  1.629230  1.801183  1.819565\n",
            "16  1.734179  1.408864  1.224666  1.642893  1.057319\n",
            "17  1.972637  1.378590  1.590004  1.640749  1.362550\n",
            "18  1.226671  1.025465  1.341343  1.499796  1.296324\n",
            "19  1.053974  1.699587  1.498478  1.784332  1.624573\n"
          ]
        }
      ]
    },
    {
      "cell_type": "code",
      "source": [
        "# column with the highest standard deviation\n",
        "highest_st_dev_col = df.std().idxmax()\n",
        "print(highest_st_dev_col) "
      ],
      "metadata": {
        "colab": {
          "base_uri": "https://localhost:8080/"
        },
        "id": "sdYA7iVkShvP",
        "outputId": "1d8a687b-3c22-40df-d52f-109842c029af"
      },
      "execution_count": 70,
      "outputs": [
        {
          "output_type": "stream",
          "name": "stdout",
          "text": [
            "e\n"
          ]
        }
      ]
    },
    {
      "cell_type": "code",
      "source": [
        "# row with the lowest mean\n",
        "lowest_mean_row = df.mean(axis=1).idxmin()\n",
        "print(lowest_mean_row)"
      ],
      "metadata": {
        "colab": {
          "base_uri": "https://localhost:8080/"
        },
        "id": "N2qmjQg1Sp0R",
        "outputId": "f72ad850-5bc5-4366-d29b-cd20df73e2f2"
      },
      "execution_count": 69,
      "outputs": [
        {
          "output_type": "stream",
          "name": "stdout",
          "text": [
            "18\n"
          ]
        }
      ]
    },
    {
      "cell_type": "markdown",
      "source": [
        "## Question - 11"
      ],
      "metadata": {
        "id": "Quvf3-QoTBVo"
      }
    },
    {
      "cell_type": "code",
      "source": [
        "import pandas as pd\n",
        "\n",
        "# Adding a new column called \"f\" = \"a\" + \"b\" + \"c\" + \"d\" + \"e\" \n",
        "df['f'] = df[['a', 'b', 'c', 'd', 'e']].sum(axis=1)\n",
        "\n",
        "print(df)"
      ],
      "metadata": {
        "colab": {
          "base_uri": "https://localhost:8080/"
        },
        "id": "12Z7MYQrTDvS",
        "outputId": "102d4af7-ea21-4866-9cca-55982852cac0"
      },
      "execution_count": 71,
      "outputs": [
        {
          "output_type": "stream",
          "name": "stdout",
          "text": [
            "           a         b         c         d         e         f\n",
            "0   1.812936  1.454571  1.977174  1.970418  1.333052  8.548151\n",
            "1   1.108456  1.102387  1.367057  1.681905  1.245159  6.504964\n",
            "2   1.241615  1.057884  1.446866  1.467373  1.677864  6.891602\n",
            "3   1.472219  1.612213  1.669987  1.156227  1.919241  7.829887\n",
            "4   1.548210  1.430066  1.488939  1.892819  1.110353  7.470387\n",
            "5   1.445023  1.888019  1.053473  1.965034  1.915342  8.266891\n",
            "6   1.233091  1.332715  1.374755  1.829440  1.399069  7.169070\n",
            "7   1.450093  1.714528  1.138697  1.692621  1.800102  7.796042\n",
            "8   1.052956  1.176155  1.356973  1.268762  1.913297  6.768144\n",
            "9   1.696207  1.226678  1.111906  1.731523  1.796870  7.563185\n",
            "10  1.079846  1.933158  1.990840  1.311180  1.778225  8.093249\n",
            "11  1.793571  1.411705  1.579172  1.531976  1.069174  7.385597\n",
            "12  1.376445  1.671525  1.778565  1.415669  1.187424  7.429628\n",
            "13  1.559082  1.377130  1.621488  1.039629  1.847554  7.444882\n",
            "14  1.677228  1.824879  1.055201  1.596794  1.801042  7.955144\n",
            "15  1.838632  1.558808  1.629230  1.801183  1.819565  8.647418\n",
            "16  1.734179  1.408864  1.224666  1.642893  1.057319  7.067922\n",
            "17  1.972637  1.378590  1.590004  1.640749  1.362550  7.944529\n",
            "18  1.226671  1.025465  1.341343  1.499796  1.296324  6.389600\n",
            "19  1.053974  1.699587  1.498478  1.784332  1.624573  7.660943\n"
          ]
        }
      ]
    },
    {
      "cell_type": "code",
      "source": [
        "# new column called \"g\" with given conditions \n",
        "df['g'] = df['f'].apply(lambda x: 'LT8' if x < 8 else 'GT8')\n",
        "print(df)"
      ],
      "metadata": {
        "colab": {
          "base_uri": "https://localhost:8080/"
        },
        "id": "_hKy5AQ0TRE8",
        "outputId": "d810dd6f-ec8c-4b18-deb9-690349333f69"
      },
      "execution_count": 72,
      "outputs": [
        {
          "output_type": "stream",
          "name": "stdout",
          "text": [
            "           a         b         c         d         e         f    g\n",
            "0   1.812936  1.454571  1.977174  1.970418  1.333052  8.548151  GT8\n",
            "1   1.108456  1.102387  1.367057  1.681905  1.245159  6.504964  LT8\n",
            "2   1.241615  1.057884  1.446866  1.467373  1.677864  6.891602  LT8\n",
            "3   1.472219  1.612213  1.669987  1.156227  1.919241  7.829887  LT8\n",
            "4   1.548210  1.430066  1.488939  1.892819  1.110353  7.470387  LT8\n",
            "5   1.445023  1.888019  1.053473  1.965034  1.915342  8.266891  GT8\n",
            "6   1.233091  1.332715  1.374755  1.829440  1.399069  7.169070  LT8\n",
            "7   1.450093  1.714528  1.138697  1.692621  1.800102  7.796042  LT8\n",
            "8   1.052956  1.176155  1.356973  1.268762  1.913297  6.768144  LT8\n",
            "9   1.696207  1.226678  1.111906  1.731523  1.796870  7.563185  LT8\n",
            "10  1.079846  1.933158  1.990840  1.311180  1.778225  8.093249  GT8\n",
            "11  1.793571  1.411705  1.579172  1.531976  1.069174  7.385597  LT8\n",
            "12  1.376445  1.671525  1.778565  1.415669  1.187424  7.429628  LT8\n",
            "13  1.559082  1.377130  1.621488  1.039629  1.847554  7.444882  LT8\n",
            "14  1.677228  1.824879  1.055201  1.596794  1.801042  7.955144  LT8\n",
            "15  1.838632  1.558808  1.629230  1.801183  1.819565  8.647418  GT8\n",
            "16  1.734179  1.408864  1.224666  1.642893  1.057319  7.067922  LT8\n",
            "17  1.972637  1.378590  1.590004  1.640749  1.362550  7.944529  LT8\n",
            "18  1.226671  1.025465  1.341343  1.499796  1.296324  6.389600  LT8\n",
            "19  1.053974  1.699587  1.498478  1.784332  1.624573  7.660943  LT8\n"
          ]
        }
      ]
    },
    {
      "cell_type": "code",
      "source": [
        "# number of \"LT8\"s in \"g\" \n",
        "num_rows = df['g'].value_counts()['LT8']\n",
        "\n",
        "print(num_rows)"
      ],
      "metadata": {
        "colab": {
          "base_uri": "https://localhost:8080/"
        },
        "id": "IqvOxdd7TYfa",
        "outputId": "01cdfa73-ea5a-42b9-b7e9-5470a1ad6458"
      },
      "execution_count": 73,
      "outputs": [
        {
          "output_type": "stream",
          "name": "stdout",
          "text": [
            "16\n"
          ]
        }
      ]
    },
    {
      "cell_type": "code",
      "source": [
        "# standard deviation of column \"f\" for the rows in the column \"g\" as \"LT8\"\n",
        "std_lt8 = df.loc[df['g'] == 'LT8', 'f'].std()\n",
        "\n",
        "# standard deviation of column \"f\" for the rows in the column \"g\" as \"GT8\"\n",
        "std_gt8 = df.loc[df['g'] == 'GT8', 'f'].std()\n",
        "\n",
        "print(std_lt8)\n",
        "print(std_gt8)"
      ],
      "metadata": {
        "colab": {
          "base_uri": "https://localhost:8080/"
        },
        "id": "vrZN0SuCTfVn",
        "outputId": "2d66b00e-f5b4-4309-975f-f7444bef2c0d"
      },
      "execution_count": 74,
      "outputs": [
        {
          "output_type": "stream",
          "name": "stdout",
          "text": [
            "0.4907712245206435\n",
            "0.25461590533333817\n"
          ]
        }
      ]
    },
    {
      "cell_type": "markdown",
      "source": [
        "## Question - 12\n",
        "Broadcasting allows numpy to perform calculations with arrays of different shapes when performing arithmetic operations. "
      ],
      "metadata": {
        "id": "7Pj8o8u0Tu6w"
      }
    },
    {
      "cell_type": "code",
      "source": [
        "import numpy as np\n",
        "\n",
        "A = np.array([[1, 2, 3],\n",
        "              [4, 5, 6]])\n",
        "B = np.array([1, 2, 3])\n",
        "\n",
        "# Adding vector b to each row of the matrix A using broadcasting \n",
        "C = A + B\n",
        "\n",
        "print(C)"
      ],
      "metadata": {
        "colab": {
          "base_uri": "https://localhost:8080/"
        },
        "id": "rU5WIBMRTxD1",
        "outputId": "fd0c0e1c-54b0-46ff-f425-548a3615bbe4"
      },
      "execution_count": 1,
      "outputs": [
        {
          "output_type": "stream",
          "name": "stdout",
          "text": [
            "[[2 4 6]\n",
            " [5 7 9]]\n"
          ]
        }
      ]
    },
    {
      "cell_type": "markdown",
      "source": [
        "Here, the size of 'B' is $1\\times3$ and the size of 'A' is $2\\times3$. In order to perform addition operation on 'A' and 'B', numpy stretches 'B' to have the same size as 'A'. This allows element-wise addition operation on 'A' and 'B'"
      ],
      "metadata": {
        "id": "RInri4JzWgOZ"
      }
    },
    {
      "cell_type": "markdown",
      "source": [
        "## Question - 13"
      ],
      "metadata": {
        "id": "3L7ZWenLfXTI"
      }
    },
    {
      "cell_type": "code",
      "source": [
        "import numpy as np\n",
        "\n",
        "def func(arr):\n",
        "    min_ele = arr[0]\n",
        "    min_index = 0\n",
        "    for i in range(1, len(arr)):\n",
        "        if arr[i] < min_ele:\n",
        "            min_ele = arr[i]\n",
        "            min_index = i \n",
        "    return min_index"
      ],
      "metadata": {
        "id": "jkmyflTrfZLU"
      },
      "execution_count": 4,
      "outputs": []
    },
    {
      "cell_type": "code",
      "source": [
        "arr = np.array([4, 3, 1, 2])\n",
        "\n",
        "print(\"Index of minimum element using 'func': \", func(arr))\n",
        "print(\"Index of minimum elem4nt using 'argmin': \", np.argmin(arr))"
      ],
      "metadata": {
        "colab": {
          "base_uri": "https://localhost:8080/"
        },
        "id": "dIaWTs1LYOBq",
        "outputId": "24dd110d-3a14-44e7-8a88-33a4f5e82eb3"
      },
      "execution_count": 5,
      "outputs": [
        {
          "output_type": "stream",
          "name": "stdout",
          "text": [
            "Index of minimum element using 'func':  2\n",
            "Index of minimum elem4nt using 'argmin':  2\n"
          ]
        }
      ]
    },
    {
      "cell_type": "markdown",
      "source": [
        "We obtain the same and correct result in both ways. "
      ],
      "metadata": {
        "id": "fAxCbEXoYn5Z"
      }
    }
  ]
}